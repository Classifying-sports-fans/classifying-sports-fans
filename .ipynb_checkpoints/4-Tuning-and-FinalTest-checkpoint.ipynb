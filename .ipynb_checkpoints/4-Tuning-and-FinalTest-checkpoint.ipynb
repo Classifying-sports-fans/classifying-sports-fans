{
 "cells": [
  {
   "cell_type": "markdown",
   "id": "b9b8a6ed",
   "metadata": {},
   "source": [
    "## Final model and predictions"
   ]
  },
  {
   "cell_type": "markdown",
   "id": "0b280132",
   "metadata": {},
   "source": [
    "### Hyperparameter tuning \n",
    "\n",
    "For the AdaBoost model, we tune the hyperparameters `learning_rate` (weight applied to each classifier at each boosting iteration. A higher learning rate increases the contribution of each classifier) and `n_estimtors` (maximum number of estimators used). "
   ]
  },
  {
   "cell_type": "code",
   "execution_count": 2,
   "id": "ca5b4755",
   "metadata": {},
   "outputs": [],
   "source": [
    "import numpy as np\n",
    "import pandas as pd\n",
    "\n",
    "from sklearn.ensemble import AdaBoostClassifier\n",
    "from sklearn.model_selection import GridSearchCV\n",
    "\n",
    "## this is to suppress warnings I was getting in this code. \n",
    "import warnings\n",
    "# Suppress FutureWarning messages\n",
    "warnings.simplefilter(action='ignore', category=FutureWarning)\n"
   ]
  },
  {
   "cell_type": "code",
   "execution_count": 3,
   "id": "63688cf5",
   "metadata": {},
   "outputs": [],
   "source": [
    "## these are our parameters we want to tune.\n",
    "param_grid = {\"n_estimators\": np.arange(50,750,100),\n",
    "              \"learning_rate\": [0.01, 0.1, 1]}"
   ]
  },
  {
   "cell_type": "code",
   "execution_count": 5,
   "id": "cad909e5",
   "metadata": {},
   "outputs": [],
   "source": [
    "#importing the clean survey training data to tune the model\n",
    "survey_train = pd.read_csv('Data/survey_data_train.csv')"
   ]
  },
  {
   "cell_type": "code",
   "execution_count": 6,
   "id": "a881c67e",
   "metadata": {},
   "outputs": [],
   "source": [
    "#features we are focusing on for our model\n",
    "features = ['S2', 'D4', 'Fan_magnitude']\n",
    "\n",
    "## the outputs we are predicting\n",
    "targets = ['VL1r1','VL1r2','VL1r4','VL1r5','VL1r7',\n",
    "           'VL1r10','VL1r11','VL1r12','VL1r13' ,'VL1r14']"
   ]
  },
  {
   "cell_type": "code",
   "execution_count": 7,
   "id": "92c930e0",
   "metadata": {},
   "outputs": [
    {
     "name": "stdout",
     "output_type": "stream",
     "text": [
      "VL1r1\n",
      "VL1r2\n",
      "VL1r4\n",
      "VL1r5\n",
      "VL1r7\n",
      "VL1r10\n",
      "VL1r11\n",
      "VL1r12\n",
      "VL1r13\n",
      "VL1r14\n"
     ]
    }
   ],
   "source": [
    "## initialize our model\n",
    "Ada = AdaBoostClassifier()\n",
    "\n",
    "## dictionary for our hyperparameters\n",
    "VL_dict = {}\n",
    "\n",
    "## for our outputs, we determine the best parameters and store those in a dictionary\n",
    "## to use later.\n",
    "for VL in targets:\n",
    "    print(VL)\n",
    "    search = GridSearchCV(Ada, param_grid, cv=5).fit(survey_train[features], survey_train[VL])\n",
    "    VL_dict[VL] = search.best_params_"
   ]
  },
  {
   "cell_type": "code",
   "execution_count": 8,
   "id": "12294aff",
   "metadata": {},
   "outputs": [
    {
     "data": {
      "text/plain": [
       "{'VL1r1': {'learning_rate': 1, 'n_estimators': 350},\n",
       " 'VL1r2': {'learning_rate': 0.1, 'n_estimators': 450},\n",
       " 'VL1r4': {'learning_rate': 0.1, 'n_estimators': 350},\n",
       " 'VL1r5': {'learning_rate': 1, 'n_estimators': 550},\n",
       " 'VL1r7': {'learning_rate': 0.01, 'n_estimators': 650},\n",
       " 'VL1r10': {'learning_rate': 0.1, 'n_estimators': 150},\n",
       " 'VL1r11': {'learning_rate': 0.1, 'n_estimators': 150},\n",
       " 'VL1r12': {'learning_rate': 0.1, 'n_estimators': 250},\n",
       " 'VL1r13': {'learning_rate': 1, 'n_estimators': 150},\n",
       " 'VL1r14': {'learning_rate': 0.1, 'n_estimators': 250}}"
      ]
     },
     "execution_count": 8,
     "metadata": {},
     "output_type": "execute_result"
    }
   ],
   "source": [
    "## viewing our dictionary of best parameters for each VL output\n",
    "VL_dict"
   ]
  },
  {
   "cell_type": "markdown",
   "id": "5c38e32d",
   "metadata": {},
   "source": [
    "### Now, we run the final test on the chosen model\n",
    "\n",
    "With the above best performing hyper parameters, we run the model on the test data. We store the accuracy scores and feature importances for each `VL1r` question in distinct dictionaries. "
   ]
  },
  {
   "cell_type": "code",
   "execution_count": 9,
   "id": "2de5369d",
   "metadata": {},
   "outputs": [],
   "source": [
    "from sklearn.metrics import accuracy_score\n",
    "\n",
    "survey_test = pd.read_csv('Data/survey_data_test.csv')"
   ]
  },
  {
   "cell_type": "code",
   "execution_count": 10,
   "id": "cc733e7c",
   "metadata": {},
   "outputs": [],
   "source": [
    "accuracy = {}\n",
    "precision = {}\n",
    "recall = {}\n",
    "ada_importance = {}\n",
    "\n",
    "## reminder of our features and outputs\n",
    "# features = ['S2', 'D4', 'Fan_magnitude']\n",
    "# targets = ['VL1r1','VL1r2','VL1r4','VL1r5','VL1r7',\n",
    "#            'VL1r10','VL1r11','VL1r12','VL1r13' ,'VL1r14']\n",
    "\n",
    "for v in VL_dict.items():\n",
    "    ## initialize the model with the best_params_ found above\n",
    "    Ada = AdaBoostClassifier(**v[1])\n",
    "    \n",
    "    ## fit the model with the training data\n",
    "    Ada.fit(survey_train[features].values, survey_train[v[0]].values)\n",
    "    \n",
    "    ## predict the test data\n",
    "    pred = Ada.predict(survey_test[features].values)\n",
    "    \n",
    "    ## store the accuracy score for the test VL values and predicted values\n",
    "    accuracy[v[0]] = accuracy_score(survey_test[v[0]].values, pred)\n",
    "    \n",
    "    ##comuting the confusion matrix for the VL value\n",
    "    matrix = confusion_matrix(survey_test[v[0]].values, pred)\n",
    "    \n",
    "    ## isolating True negative, True positive, etc.\n",
    "    TN = matrix[0,0]\n",
    "    FP = matrix[0,1]\n",
    "    FN = matrix[1,0]\n",
    "    TP = matrix[1,1]\n",
    "    \n",
    "    ## storing recall and precision in a dictionary\n",
    "    recall[v[0]] = np.round(TP/(TP+FN),4)\n",
    "    precision[v[0]] = np.round(TP/(TP+FP),4)\n",
    "    \n",
    "    ## store the feature importance for each VL\n",
    "    ada_importance[v[0]] = Ada.feature_importances_"
   ]
  },
  {
   "cell_type": "code",
   "execution_count": 11,
   "id": "c0d5955e",
   "metadata": {},
   "outputs": [
    {
     "data": {
      "text/plain": [
       "{'VL1r1': 0.6560540279787748,\n",
       " 'VL1r2': 0.6406174626145683,\n",
       " 'VL1r4': 0.7838880849011095,\n",
       " 'VL1r5': 0.6348287506029908,\n",
       " 'VL1r7': 0.5914134105161601,\n",
       " 'VL1r10': 0.7211770381090208,\n",
       " 'VL1r11': 0.7650747708634829,\n",
       " 'VL1r12': 0.9276410998552822,\n",
       " 'VL1r13': 0.7930535455861071,\n",
       " 'VL1r14': 0.8335745296671491}"
      ]
     },
     "execution_count": 11,
     "metadata": {},
     "output_type": "execute_result"
    }
   ],
   "source": [
    "## viewing our final accuracy scores\n",
    "accuracy"
   ]
  },
  {
   "cell_type": "code",
   "execution_count": 12,
   "id": "7e9cd7c0",
   "metadata": {},
   "outputs": [
    {
     "data": {
      "text/plain": [
       "{'VL1r1': array([0.22285714, 0.04571429, 0.73142857]),\n",
       " 'VL1r2': array([0.34666667, 0.18222222, 0.47111111]),\n",
       " 'VL1r4': array([0.38571429, 0.14857143, 0.46571429]),\n",
       " 'VL1r5': array([0.21090909, 0.01454545, 0.77454545]),\n",
       " 'VL1r7': array([0.37076923, 0.01846154, 0.61076923]),\n",
       " 'VL1r10': array([0.33333333, 0.18666667, 0.48      ]),\n",
       " 'VL1r11': array([0.3 , 0.32, 0.38]),\n",
       " 'VL1r12': array([0.332, 0.288, 0.38 ]),\n",
       " 'VL1r13': array([0.27333333, 0.06      , 0.66666667]),\n",
       " 'VL1r14': array([0.416, 0.16 , 0.424])}"
      ]
     },
     "execution_count": 12,
     "metadata": {},
     "output_type": "execute_result"
    }
   ],
   "source": [
    "## viewing the feature importance\n",
    "# features = ['S2', 'D4', 'Fan_magnitude']\n",
    "ada_importance"
   ]
  },
  {
   "cell_type": "code",
   "execution_count": null,
   "id": "b6d2115a",
   "metadata": {},
   "outputs": [],
   "source": [
    "precision"
   ]
  },
  {
   "cell_type": "code",
   "execution_count": null,
   "id": "6c472434",
   "metadata": {},
   "outputs": [],
   "source": [
    "recall"
   ]
  }
 ],
 "metadata": {
  "kernelspec": {
   "display_name": "Python 3 (ipykernel)",
   "language": "python",
   "name": "python3"
  },
  "language_info": {
   "codemirror_mode": {
    "name": "ipython",
    "version": 3
   },
   "file_extension": ".py",
   "mimetype": "text/x-python",
   "name": "python",
   "nbconvert_exporter": "python",
   "pygments_lexer": "ipython3",
   "version": "3.11.7"
  }
 },
 "nbformat": 4,
 "nbformat_minor": 5
}
