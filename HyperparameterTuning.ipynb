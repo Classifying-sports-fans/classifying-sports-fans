{
 "cells": [
  {
   "cell_type": "markdown",
   "id": "9830110a",
   "metadata": {},
   "source": [
    "#### Hyperparameter tuning "
   ]
  },
  {
   "cell_type": "code",
   "execution_count": 22,
   "id": "63057560",
   "metadata": {},
   "outputs": [],
   "source": [
    "import numpy as np\n",
    "import pandas as pd\n",
    "\n",
    "from sklearn.ensemble import AdaBoostClassifier\n",
    "from sklearn.model_selection import GridSearchCV\n",
    "\n",
    "## this is to suppress warnings I was getting in this code. \n",
    "import warnings\n",
    "# Suppress FutureWarning messages\n",
    "warnings.simplefilter(action='ignore', category=FutureWarning)\n"
   ]
  },
  {
   "cell_type": "code",
   "execution_count": 27,
   "id": "acc39375",
   "metadata": {},
   "outputs": [],
   "source": [
    "param_grid = {\"n_estimators\": np.arange(50,750,100),\n",
    "              \"learning_rate\": [0.01, 0.1, 1]}"
   ]
  },
  {
   "cell_type": "code",
   "execution_count": 24,
   "id": "787c417e",
   "metadata": {},
   "outputs": [],
   "source": [
    "survey_df = pd.read_csv('survey_data_train.csv')"
   ]
  },
  {
   "cell_type": "code",
   "execution_count": 25,
   "id": "10eebf1d",
   "metadata": {},
   "outputs": [],
   "source": [
    "#features we want\n",
    "features = ['S2', 'D4', 'Fan_magnitude']\n",
    "#removed VL2, 'D6'\n",
    "targets = ['VL1r1','VL1r2','VL1r4','VL1r5','VL1r7',\n",
    "           'VL1r10','VL1r11','VL1r12','VL1r13' ,'VL1r14']"
   ]
  },
  {
   "cell_type": "code",
   "execution_count": 28,
   "id": "5e287907",
   "metadata": {},
   "outputs": [
    {
     "name": "stdout",
     "output_type": "stream",
     "text": [
      "The best hyperparameters for VL1r1 are  {'learning_rate': 1, 'n_estimators': 350}\n",
      "The best hyperparameters for VL1r2 are  {'learning_rate': 1, 'n_estimators': 350}\n",
      "The best hyperparameters for VL1r4 are  {'learning_rate': 1, 'n_estimators': 350}\n",
      "The best hyperparameters for VL1r5 are  {'learning_rate': 1, 'n_estimators': 350}\n",
      "The best hyperparameters for VL1r7 are  {'learning_rate': 1, 'n_estimators': 350}\n",
      "The best hyperparameters for VL1r10 are  {'learning_rate': 1, 'n_estimators': 350}\n",
      "The best hyperparameters for VL1r11 are  {'learning_rate': 1, 'n_estimators': 350}\n",
      "The best hyperparameters for VL1r12 are  {'learning_rate': 1, 'n_estimators': 350}\n",
      "The best hyperparameters for VL1r13 are  {'learning_rate': 1, 'n_estimators': 350}\n",
      "The best hyperparameters for VL1r14 are  {'learning_rate': 1, 'n_estimators': 350}\n"
     ]
    }
   ],
   "source": [
    "Ada = AdaBoostClassifier()\n",
    "VL_dict = {}\n",
    "for VL in targets:\n",
    "    search = GridSearchCV(Ada, param_grid, cv=5).fit(survey_df[features], survey_df['VL1r1'])\n",
    "    VL_dict[VL] = search.best_params_\n",
    "    print(\"The best hyperparameters for\", VL, \"are \", search.best_params_)"
   ]
  },
  {
   "cell_type": "code",
   "execution_count": null,
   "id": "2a964b6a",
   "metadata": {},
   "outputs": [],
   "source": []
  }
 ],
 "metadata": {
  "kernelspec": {
   "display_name": "erdos_may_2024_new",
   "language": "python",
   "name": "erdos_may_2024_new"
  },
  "language_info": {
   "codemirror_mode": {
    "name": "ipython",
    "version": 3
   },
   "file_extension": ".py",
   "mimetype": "text/x-python",
   "name": "python",
   "nbconvert_exporter": "python",
   "pygments_lexer": "ipython3",
   "version": "3.11.9"
  }
 },
 "nbformat": 4,
 "nbformat_minor": 5
}
