{
 "cells": [
  {
   "cell_type": "markdown",
   "id": "0b280132",
   "metadata": {},
   "source": [
    "### Hyperparameter tuning \n",
    "\n",
    "For the AdaBoost model, we tune the hyperparameters `learning_rate` (weight applied to each classifier at each boosting iteration. A higher learning rate increases the contribution of each classifier) and `n_estimtors` (maximum number of estimators used). "
   ]
  },
  {
   "cell_type": "code",
   "execution_count": 22,
   "id": "ca5b4755",
   "metadata": {},
   "outputs": [],
   "source": [
    "import numpy as np\n",
    "import pandas as pd\n",
    "\n",
    "from sklearn.ensemble import AdaBoostClassifier\n",
    "from sklearn.model_selection import GridSearchCV\n",
    "\n",
    "## this is to suppress warnings I was getting in this code. \n",
    "import warnings\n",
    "# Suppress FutureWarning messages\n",
    "warnings.simplefilter(action='ignore', category=FutureWarning)\n"
   ]
  },
  {
   "cell_type": "code",
   "execution_count": 27,
   "id": "63688cf5",
   "metadata": {},
   "outputs": [],
   "source": [
    "param_grid = {\"n_estimators\": np.arange(50,750,100),\n",
    "              \"learning_rate\": [0.01, 0.1, 1]}"
   ]
  },
  {
   "cell_type": "code",
   "execution_count": 24,
   "id": "cad909e5",
   "metadata": {},
   "outputs": [],
   "source": [
    "survey_df = pd.read_csv('survey_data_train.csv')"
   ]
  },
  {
   "cell_type": "code",
   "execution_count": 25,
   "id": "a881c67e",
   "metadata": {},
   "outputs": [],
   "source": [
    "#features we want\n",
    "features = ['S2', 'D4', 'Fan_magnitude']\n",
    "#removed VL2, 'D6'\n",
    "targets = ['VL1r1','VL1r2','VL1r4','VL1r5','VL1r7',\n",
    "           'VL1r10','VL1r11','VL1r12','VL1r13' ,'VL1r14']"
   ]
  },
  {
   "cell_type": "code",
   "execution_count": 28,
   "id": "92c930e0",
   "metadata": {},
   "outputs": [
    {
     "name": "stdout",
     "output_type": "stream",
     "text": [
      "The best hyperparameters for VL1r1 are  {'learning_rate': 1, 'n_estimators': 350}\n",
      "The best hyperparameters for VL1r2 are  {'learning_rate': 1, 'n_estimators': 350}\n",
      "The best hyperparameters for VL1r4 are  {'learning_rate': 1, 'n_estimators': 350}\n",
      "The best hyperparameters for VL1r5 are  {'learning_rate': 1, 'n_estimators': 350}\n",
      "The best hyperparameters for VL1r7 are  {'learning_rate': 1, 'n_estimators': 350}\n",
      "The best hyperparameters for VL1r10 are  {'learning_rate': 1, 'n_estimators': 350}\n",
      "The best hyperparameters for VL1r11 are  {'learning_rate': 1, 'n_estimators': 350}\n",
      "The best hyperparameters for VL1r12 are  {'learning_rate': 1, 'n_estimators': 350}\n",
      "The best hyperparameters for VL1r13 are  {'learning_rate': 1, 'n_estimators': 350}\n",
      "The best hyperparameters for VL1r14 are  {'learning_rate': 1, 'n_estimators': 350}\n"
     ]
    }
   ],
   "source": [
    "Ada = AdaBoostClassifier()\n",
    "VL_dict = {}\n",
    "for VL in targets:\n",
    "    search = GridSearchCV(Ada, param_grid, cv=5).fit(survey_df[features], survey_df['VL1r1'])\n",
    "    VL_dict[VL] = search.best_params_\n",
    "    print(\"The best hyperparameters for\", VL, \"are \", search.best_params_)"
   ]
  },
  {
   "cell_type": "code",
   "execution_count": 29,
   "id": "12294aff",
   "metadata": {},
   "outputs": [],
   "source": [
    "from sklearn.model_selection import KFold\n",
    "from sklearn.metrics import accuracy_score\n"
   ]
  },
  {
   "cell_type": "code",
   "execution_count": 38,
   "id": "0c0d295b",
   "metadata": {},
   "outputs": [
    {
     "name": "stdout",
     "output_type": "stream",
     "text": [
      "Working on  VL1r1\n",
      "Working on  VL1r2\n",
      "Working on  VL1r4\n",
      "Working on  VL1r5\n",
      "Working on  VL1r7\n",
      "Working on  VL1r10\n",
      "Working on  VL1r11\n",
      "Working on  VL1r12\n",
      "Working on  VL1r13\n",
      "Working on  VL1r14\n"
     ]
    }
   ],
   "source": [
    "kfold = KFold(5, shuffle = True, random_state = 5555)\n",
    "\n",
    "accuracy = {}\n",
    "\n",
    "for VL in targets:\n",
    "    accur = np.zeros((5,1))\n",
    "    print('Working on ', VL)\n",
    "    for i, (train_index, test_index) in enumerate(kfold.split(survey_df)):\n",
    "        survey_tt = survey_df.iloc[train_index]\n",
    "        survey_ho = survey_df.iloc[test_index]\n",
    "    \n",
    "        Ada = AdaBoostClassifier(n_estimators = 350)\n",
    "    \n",
    "\n",
    "        Ada.fit(survey_tt[features].values, survey_tt[VL].values)\n",
    "        \n",
    "        pred = Ada.predict(survey_ho[features].values)\n",
    "        \n",
    "        accur[i,0] = accuracy_score(survey_ho[VL].values, pred)\n",
    "    \n",
    "    accuracy[VL] = accur.mean()\n",
    "    "
   ]
  },
  {
   "cell_type": "code",
   "execution_count": 40,
   "id": "8f8b1c69",
   "metadata": {},
   "outputs": [
    {
     "data": {
      "text/plain": [
       "{'VL1r1': 0.6549670113194526,\n",
       " 'VL1r2': 0.640969298651115,\n",
       " 'VL1r4': 0.8010618402172893,\n",
       " 'VL1r5': 0.6485714368912674,\n",
       " 'VL1r7': 0.5882494341729679,\n",
       " 'VL1r10': 0.7271075009482015,\n",
       " 'VL1r11': 0.7648702401552648,\n",
       " 'VL1r12': 0.917601970803398,\n",
       " 'VL1r13': 0.7842918844861111,\n",
       " 'VL1r14': 0.8442515686275935}"
      ]
     },
     "execution_count": 40,
     "metadata": {},
     "output_type": "execute_result"
    }
   ],
   "source": [
    "accuracy"
   ]
  },
  {
   "cell_type": "code",
   "execution_count": null,
   "id": "c03f7436",
   "metadata": {},
   "outputs": [],
   "source": []
  },
  {
   "cell_type": "code",
   "execution_count": null,
   "id": "f525840e",
   "metadata": {},
   "outputs": [],
   "source": []
  }
 ],
 "metadata": {
  "kernelspec": {
   "display_name": "erdos_may_2024_new",
   "language": "python",
   "name": "erdos_may_2024_new"
  },
  "language_info": {
   "codemirror_mode": {
    "name": "ipython",
    "version": 3
   },
   "file_extension": ".py",
   "mimetype": "text/x-python",
   "name": "python",
   "nbconvert_exporter": "python",
   "pygments_lexer": "ipython3",
   "version": "3.11.9"
  }
 },
 "nbformat": 4,
 "nbformat_minor": 5
}
