{
 "cells": [
  {
   "cell_type": "markdown",
   "id": "b9e799c4",
   "metadata": {},
   "source": [
    "## In this notebook, I exlore different models, determining the one of best performance, the tuning the hyper parameters\n",
    "\n"
   ]
  },
  {
   "cell_type": "code",
   "execution_count": 16,
   "id": "a9f7839b",
   "metadata": {},
   "outputs": [],
   "source": [
    "from sklearn.model_selection import train_test_split, GridSearchCV\n",
    "from sklearn.linear_model import LogisticRegression\n",
    "from sklearn.ensemble import AdaBoostClassifier, ExtraTreesClassifier\n",
    "from sklearn.neighbors import KNeighborsClassifier\n",
    "from sklearn.ensemble import BaggingClassifier\n",
    "from sklearn.svm import SVC\n",
    "from sklearn.ensemble import GradientBoostingClassifier, RandomForestClassifier, VotingClassifier\n",
    "\n",
    "from xgboost import XGBClassifier\n"
   ]
  },
  {
   "cell_type": "code",
   "execution_count": 10,
   "id": "4bf7661b",
   "metadata": {},
   "outputs": [],
   "source": [
    "survey_df = pd.read_csv('survey_data_train.csv')\n",
    "fan_tt, fan_val = train_test_split(survey_df, \n",
    "                                      shuffle = True,\n",
    "                                      random_state = 5555,\n",
    "                                      test_size = .2)"
   ]
  },
  {
   "cell_type": "code",
   "execution_count": 17,
   "id": "2cb2e78c",
   "metadata": {},
   "outputs": [],
   "source": [
    "replacement = True\n",
    "estimators = 100\n",
    "samples = .25\n",
    "\n",
    "models = {'slc': LogisticRegression(),\n",
    "          'svc': SVC(),\n",
    "          'knn': KNeighborsClassifier(),\n",
    "        'bagged_lr': BaggingClassifier(LogisticRegression(), bootstrap = replacement, n_estimators = estimators, max_samples = samples),\n",
    "         'ada': AdaBoostClassifier(),\n",
    "        'bagged_svc': BaggingClassifier(SVC(),bootstrap = replacement, n_estimators = estimators, max_samples = samples),\n",
    "         'bagged_knn': BaggingClassifier(KNeighborsClassifier(),bootstrap = replacement, n_estimators = estimators, max_samples = samples),\n",
    "         'gbc': GradientBoostingClassifier(),\n",
    "         'rfc': RandomForestClassifier(),\n",
    "          'etc': ExtraTreesClassifier(),\n",
    "         'xgbc': XGBClassifier()}"
   ]
  },
  {
   "cell_type": "code",
   "execution_count": 18,
   "id": "65445d2e",
   "metadata": {},
   "outputs": [],
   "source": [
    "# from sklearn.metrics import mean_squared_error\n",
    "from sklearn.metrics import accuracy_score"
   ]
  },
  {
   "cell_type": "code",
   "execution_count": 25,
   "id": "2327c501",
   "metadata": {},
   "outputs": [
    {
     "data": {
      "text/plain": [
       "Index(['S1', 'S2', 'D4', 'D5', 'D6', 'Hid_Ethnicity_Buckets', 'Hid_Age',\n",
       "       'S12r3', 'VL2', 'NFL3', 'NFL4', 'S15r1', 'S15r2', 'S15r3', 'S15r4',\n",
       "       'S15r5', 'S15r6', 'S15r7', 'S15r8', 'S15r9', 'S15r10', 'S15r11',\n",
       "       'S13r1', 'S13r2', 'S13r3', 'S13r4', 'VL1r1', 'VL1r2', 'VL1r3', 'VL1r4',\n",
       "       'VL1r5', 'VL1r6', 'VL1r7', 'VL1r8', 'VL1r9', 'VL1r10', 'VL1r11',\n",
       "       'VL1r12', 'VL1r13', 'VL1r14', 'VL1r15', 'VL3r1', 'VL3r2', 'VL3r3',\n",
       "       'VL3r4', 'VL3r5', 'VL3r6', 'VL4r1', 'VL4r2', 'VL4r3', 'VL4r4', 'VL4r5',\n",
       "       'VL4r6', 'TEAM6r1', 'TEAM6r2', 'TEAM6r3', 'TEAM6r4', 'TEAM6r5',\n",
       "       'TEAM6r6', 'TEAM6r7', 'TEAM6r8', 'TEAM6r9', 'TEAM6r10', 'TEAM6r11',\n",
       "       'TEAM6r12', 'TEAM6r13', 'TEAM6r14', 'TEAM6r15', 'TEAM6r16', 'TEAM6r17',\n",
       "       'TEAM6r18', 'TEAM6r19', 'TEAM6r20', 'TEAM6r21', 'TEAM6r22', 'TEAM6r23',\n",
       "       'TEAM6r24', 'TEAM6r25', 'TEAM6r26', 'TEAM6r27', 'TEAM6r28', 'TEAM6r29',\n",
       "       'TEAM6r30', 'TEAM6r31', 'TEAM6r32', 'NFL1r1', 'NFL1r2', 'NFL1r3',\n",
       "       'NFL1r4', 'NFL2r1', 'NFL2r2', 'NFL2r3', 'NFL2r4', 'NFL2r5', 'TEAM6_sum',\n",
       "       'Edu_level', 'Fan_magnitude', 'VL1_magnitude', 'Team6_magnitude'],\n",
       "      dtype='object')"
      ]
     },
     "execution_count": 25,
     "metadata": {},
     "output_type": "execute_result"
    }
   ],
   "source": [
    "fan_tt.columns"
   ]
  },
  {
   "cell_type": "code",
   "execution_count": 26,
   "id": "8ca34c8c",
   "metadata": {},
   "outputs": [
    {
     "data": {
      "text/plain": [
       "Index(['S1Team6_magnitude', 'S2Team6_magnitude', 'D4Team6_magnitude',\n",
       "       'D5Team6_magnitude', 'D6Team6_magnitude'],\n",
       "      dtype='object')"
      ]
     },
     "execution_count": 26,
     "metadata": {},
     "output_type": "execute_result"
    }
   ],
   "source": [
    "#features we want\n",
    "features = ['S1', 'S2', 'D4', 'D5', 'D6','S12r3','Team6_magnitude', ] \n",
    "# + ['Fan_magnitude', 'Team6_magnitude', 'SL12r3',]\n",
    "target = ['VL1r1']\n",
    "f"
   ]
  },
  {
   "cell_type": "code",
   "execution_count": null,
   "id": "15e591df",
   "metadata": {},
   "outputs": [],
   "source": [
    "accuracy = {}\n",
    "for name, model in models.items():\n",
    "    model.fit(fan_tt[features],fan_tt[target])\n",
    "    accuracy[name] = accuracy_score(fan_val[target], model.predict(fan_val[features]))"
   ]
  },
  {
   "cell_type": "code",
   "execution_count": null,
   "id": "ef133971",
   "metadata": {},
   "outputs": [],
   "source": []
  },
  {
   "cell_type": "code",
   "execution_count": null,
   "id": "c8001f01",
   "metadata": {},
   "outputs": [],
   "source": []
  },
  {
   "cell_type": "code",
   "execution_count": null,
   "id": "8251d376",
   "metadata": {},
   "outputs": [],
   "source": []
  }
 ],
 "metadata": {
  "kernelspec": {
   "display_name": "erdos_may_2024_new",
   "language": "python",
   "name": "erdos_may_2024_new"
  },
  "language_info": {
   "codemirror_mode": {
    "name": "ipython",
    "version": 3
   },
   "file_extension": ".py",
   "mimetype": "text/x-python",
   "name": "python",
   "nbconvert_exporter": "python",
   "pygments_lexer": "ipython3",
   "version": "3.11.9"
  }
 },
 "nbformat": 4,
 "nbformat_minor": 5
}
