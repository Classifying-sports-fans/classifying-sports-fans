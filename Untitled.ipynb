{
 "cells": [
  {
   "cell_type": "code",
   "execution_count": 1,
   "id": "9b01929f",
   "metadata": {},
   "outputs": [],
   "source": [
    "VL_dict = {'VL1r1': {'learning_rate': 1, 'n_estimators': 350},\n",
    " 'VL1r2': {'learning_rate': 0.1, 'n_estimators': 450},\n",
    " 'VL1r4': {'learning_rate': 0.1, 'n_estimators': 350},\n",
    " 'VL1r5': {'learning_rate': 1, 'n_estimators': 550},\n",
    " 'VL1r7': {'learning_rate': 0.01, 'n_estimators': 650},\n",
    " 'VL1r10': {'learning_rate': 0.1, 'n_estimators': 150},\n",
    " 'VL1r11': {'learning_rate': 0.1, 'n_estimators': 150},\n",
    " 'VL1r12': {'learning_rate': 0.1, 'n_estimators': 250},\n",
    " 'VL1r13': {'learning_rate': 1, 'n_estimators': 150},\n",
    " 'VL1r14': {'learning_rate': 0.1, 'n_estimators': 250}}"
   ]
  },
  {
   "cell_type": "code",
   "execution_count": null,
   "id": "bab68aec",
   "metadata": {},
   "outputs": [],
   "source": []
  }
 ],
 "metadata": {
  "kernelspec": {
   "display_name": "erdos_may_2024_new",
   "language": "python",
   "name": "erdos_may_2024_new"
  },
  "language_info": {
   "codemirror_mode": {
    "name": "ipython",
    "version": 3
   },
   "file_extension": ".py",
   "mimetype": "text/x-python",
   "name": "python",
   "nbconvert_exporter": "python",
   "pygments_lexer": "ipython3",
   "version": "3.11.9"
  }
 },
 "nbformat": 4,
 "nbformat_minor": 5
}
